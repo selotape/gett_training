{
 "cells": [
  {
   "cell_type": "code",
   "execution_count": null,
   "metadata": {
    "ExecuteTime": {
     "end_time": "2017-07-01T19:50:21.852000",
     "start_time": "2017-07-01T19:50:21.412000"
    },
    "collapsed": true
   },
   "outputs": [],
   "source": [
    "import pandas as pd\n",
    "from sklearn.linear_model import LogisticRegression\n",
    "from sklearn.model_selection import train_test_split\n",
    "from sklearn.metrics import accuracy_score"
   ]
  },
  {
   "cell_type": "code",
   "execution_count": null,
   "metadata": {
    "ExecuteTime": {
     "end_time": "2017-07-01T19:50:22.420000",
     "start_time": "2017-07-01T19:50:22.185000"
    },
    "collapsed": true
   },
   "outputs": [],
   "source": [
    "df_all = pd.read_csv('./titanic.csv')"
   ]
  },
  {
   "cell_type": "code",
   "execution_count": null,
   "metadata": {},
   "outputs": [],
   "source": [
    "df_all.head()"
   ]
  },
  {
   "cell_type": "code",
   "execution_count": null,
   "metadata": {
    "ExecuteTime": {
     "end_time": "2017-07-01T19:50:22.835000",
     "start_time": "2017-07-01T19:50:22.832000"
    }
   },
   "outputs": [],
   "source": [
    "df_all['is_female'] = (df_all['Sex'] == 'female') * 1.0"
   ]
  },
  {
   "cell_type": "code",
   "execution_count": null,
   "metadata": {
    "ExecuteTime": {
     "end_time": "2017-07-01T19:50:23.444000",
     "start_time": "2017-07-01T19:50:23.418000"
    }
   },
   "outputs": [],
   "source": [
    "df_all.head()"
   ]
  },
  {
   "cell_type": "code",
   "execution_count": null,
   "metadata": {
    "collapsed": true
   },
   "outputs": [],
   "source": [
    "df_all = df_all.dropna()"
   ]
  },
  {
   "cell_type": "code",
   "execution_count": null,
   "metadata": {
    "ExecuteTime": {
     "end_time": "2017-07-01T19:50:24.266000",
     "start_time": "2017-07-01T19:50:24.263000"
    },
    "collapsed": true
   },
   "outputs": [],
   "source": [
    "features = ['Age','PassengerId', 'Pclass',  'SibSp', 'is_female']\n",
    "target = 'Survived'"
   ]
  },
  {
   "cell_type": "code",
   "execution_count": null,
   "metadata": {
    "ExecuteTime": {
     "end_time": "2017-07-01T19:50:25.388000",
     "start_time": "2017-07-01T19:50:25.383000"
    }
   },
   "outputs": [],
   "source": [
    "X = df_all[features]\n",
    "y = df_all[target]"
   ]
  },
  {
   "cell_type": "code",
   "execution_count": null,
   "metadata": {
    "ExecuteTime": {
     "end_time": "2017-07-01T19:50:26.615000",
     "start_time": "2017-07-01T19:50:26.567000"
    }
   },
   "outputs": [],
   "source": [
    "X_train, X_test, y_train, y_test = train_test_split(X,y, test_size=0.3, random_state=2017)"
   ]
  },
  {
   "cell_type": "code",
   "execution_count": null,
   "metadata": {
    "ExecuteTime": {
     "end_time": "2017-07-01T19:50:28.033000",
     "start_time": "2017-07-01T19:50:27.893000"
    }
   },
   "outputs": [],
   "source": [
    "model = LogisticRegression(verbose=100, max_iter=10000, solver='sag')\n",
    "model.fit(X_train,y_train)"
   ]
  },
  {
   "cell_type": "code",
   "execution_count": null,
   "metadata": {
    "ExecuteTime": {
     "end_time": "2017-07-01T19:50:46.131000",
     "start_time": "2017-07-01T19:50:46.126000"
    }
   },
   "outputs": [],
   "source": [
    "accuracy_score(model.predict(X_test), y_test)"
   ]
  },
  {
   "cell_type": "code",
   "execution_count": null,
   "metadata": {
    "collapsed": true
   },
   "outputs": [],
   "source": []
  }
 ],
 "metadata": {
  "kernelspec": {
   "display_name": "Python 3",
   "language": "python",
   "name": "python3"
  },
  "language_info": {
   "codemirror_mode": {
    "name": "ipython",
    "version": 3
   },
   "file_extension": ".py",
   "mimetype": "text/x-python",
   "name": "python",
   "nbconvert_exporter": "python",
   "pygments_lexer": "ipython3",
   "version": "3.6.3"
  }
 },
 "nbformat": 4,
 "nbformat_minor": 2
}
