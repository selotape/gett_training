{
 "cells": [
  {
   "cell_type": "code",
   "execution_count": 1,
   "metadata": {
    "ExecuteTime": {
     "end_time": "2016-12-05T00:33:24.282000",
     "start_time": "2016-12-05T00:33:24.278000"
    },
    "collapsed": true
   },
   "outputs": [],
   "source": [
    "import pandas as pd\n",
    "import matplotlib.pylab as plt\n",
    "%matplotlib inline"
   ]
  },
  {
   "cell_type": "code",
   "execution_count": 2,
   "metadata": {
    "ExecuteTime": {
     "end_time": "2016-12-05T00:33:25.625000",
     "start_time": "2016-12-05T00:33:25.614000"
    },
    "collapsed": true
   },
   "outputs": [],
   "source": [
    "df_votes = pd.read_pickle('./votes.pkl')"
   ]
  },
  {
   "cell_type": "markdown",
   "metadata": {},
   "source": [
    "## Explore the data "
   ]
  },
  {
   "cell_type": "markdown",
   "metadata": {},
   "source": [
    "This dataset contains a number of Israeli settlements (cities, vilages, towns..) and their votings in the 2016 parliamentary elections in Israel "
   ]
  },
  {
   "cell_type": "code",
   "execution_count": 3,
   "metadata": {},
   "outputs": [
    {
     "data": {
      "text/html": [
       "<div>\n",
       "<style>\n",
       "    .dataframe thead tr:only-child th {\n",
       "        text-align: right;\n",
       "    }\n",
       "\n",
       "    .dataframe thead th {\n",
       "        text-align: left;\n",
       "    }\n",
       "\n",
       "    .dataframe tbody tr th {\n",
       "        vertical-align: top;\n",
       "    }\n",
       "</style>\n",
       "<table border=\"1\" class=\"dataframe\">\n",
       "  <thead>\n",
       "    <tr style=\"text-align: right;\">\n",
       "      <th></th>\n",
       "      <th>NAME</th>\n",
       "      <th>ID</th>\n",
       "      <th>POTENTIAL_VOTERS</th>\n",
       "      <th>VOTES</th>\n",
       "      <th>SPOILT_VOTES</th>\n",
       "      <th>LEGAL_VOTES</th>\n",
       "      <th>אמת</th>\n",
       "      <th>ג</th>\n",
       "      <th>ודעם</th>\n",
       "      <th>ז</th>\n",
       "      <th>...</th>\n",
       "      <th>ני</th>\n",
       "      <th>נץ</th>\n",
       "      <th>ע</th>\n",
       "      <th>פה</th>\n",
       "      <th>ף</th>\n",
       "      <th>ףץ</th>\n",
       "      <th>קנ</th>\n",
       "      <th>קץ</th>\n",
       "      <th>רק</th>\n",
       "      <th>שס</th>\n",
       "    </tr>\n",
       "  </thead>\n",
       "  <tbody>\n",
       "    <tr>\n",
       "      <th>0</th>\n",
       "      <td>תל אביב - יפו</td>\n",
       "      <td>5000</td>\n",
       "      <td>403338</td>\n",
       "      <td>263205</td>\n",
       "      <td>1860</td>\n",
       "      <td>261345</td>\n",
       "      <td>89567</td>\n",
       "      <td>2628</td>\n",
       "      <td>8488</td>\n",
       "      <td>9</td>\n",
       "      <td>...</td>\n",
       "      <td>32</td>\n",
       "      <td>34</td>\n",
       "      <td>132</td>\n",
       "      <td>30241</td>\n",
       "      <td>105</td>\n",
       "      <td>124</td>\n",
       "      <td>2667</td>\n",
       "      <td>2906</td>\n",
       "      <td>209</td>\n",
       "      <td>10189</td>\n",
       "    </tr>\n",
       "    <tr>\n",
       "      <th>1</th>\n",
       "      <td>ירושלים</td>\n",
       "      <td>3000</td>\n",
       "      <td>385888</td>\n",
       "      <td>258879</td>\n",
       "      <td>3593</td>\n",
       "      <td>255286</td>\n",
       "      <td>24696</td>\n",
       "      <td>53948</td>\n",
       "      <td>3148</td>\n",
       "      <td>10</td>\n",
       "      <td>...</td>\n",
       "      <td>16</td>\n",
       "      <td>54</td>\n",
       "      <td>215</td>\n",
       "      <td>10752</td>\n",
       "      <td>37</td>\n",
       "      <td>148</td>\n",
       "      <td>1619</td>\n",
       "      <td>18330</td>\n",
       "      <td>121</td>\n",
       "      <td>30579</td>\n",
       "    </tr>\n",
       "    <tr>\n",
       "      <th>2</th>\n",
       "      <td>חיפה</td>\n",
       "      <td>4000</td>\n",
       "      <td>243274</td>\n",
       "      <td>151318</td>\n",
       "      <td>1758</td>\n",
       "      <td>149560</td>\n",
       "      <td>37805</td>\n",
       "      <td>4894</td>\n",
       "      <td>12363</td>\n",
       "      <td>24</td>\n",
       "      <td>...</td>\n",
       "      <td>12</td>\n",
       "      <td>16</td>\n",
       "      <td>103</td>\n",
       "      <td>16826</td>\n",
       "      <td>40</td>\n",
       "      <td>87</td>\n",
       "      <td>1596</td>\n",
       "      <td>1648</td>\n",
       "      <td>142</td>\n",
       "      <td>3342</td>\n",
       "    </tr>\n",
       "    <tr>\n",
       "      <th>3</th>\n",
       "      <td>ראשון לציון</td>\n",
       "      <td>8300</td>\n",
       "      <td>195958</td>\n",
       "      <td>138998</td>\n",
       "      <td>1188</td>\n",
       "      <td>137810</td>\n",
       "      <td>31492</td>\n",
       "      <td>924</td>\n",
       "      <td>86</td>\n",
       "      <td>8</td>\n",
       "      <td>...</td>\n",
       "      <td>16</td>\n",
       "      <td>16</td>\n",
       "      <td>5</td>\n",
       "      <td>19953</td>\n",
       "      <td>26</td>\n",
       "      <td>68</td>\n",
       "      <td>1821</td>\n",
       "      <td>2258</td>\n",
       "      <td>121</td>\n",
       "      <td>4095</td>\n",
       "    </tr>\n",
       "    <tr>\n",
       "      <th>4</th>\n",
       "      <td>פתח תקווה</td>\n",
       "      <td>7900</td>\n",
       "      <td>177367</td>\n",
       "      <td>125633</td>\n",
       "      <td>1223</td>\n",
       "      <td>124410</td>\n",
       "      <td>22103</td>\n",
       "      <td>4810</td>\n",
       "      <td>85</td>\n",
       "      <td>8</td>\n",
       "      <td>...</td>\n",
       "      <td>13</td>\n",
       "      <td>14</td>\n",
       "      <td>9</td>\n",
       "      <td>14661</td>\n",
       "      <td>15</td>\n",
       "      <td>65</td>\n",
       "      <td>1224</td>\n",
       "      <td>3227</td>\n",
       "      <td>74</td>\n",
       "      <td>6946</td>\n",
       "    </tr>\n",
       "  </tbody>\n",
       "</table>\n",
       "<p>5 rows × 32 columns</p>\n",
       "</div>"
      ],
      "text/plain": [
       "            NAME    ID  POTENTIAL_VOTERS   VOTES  SPOILT_VOTES  LEGAL_VOTES  \\\n",
       "0  תל אביב - יפו  5000            403338  263205          1860       261345   \n",
       "1        ירושלים  3000            385888  258879          3593       255286   \n",
       "2           חיפה  4000            243274  151318          1758       149560   \n",
       "3    ראשון לציון  8300            195958  138998          1188       137810   \n",
       "4      פתח תקווה  7900            177367  125633          1223       124410   \n",
       "\n",
       "     אמת      ג   ודעם   ז  ...    ני  נץ    ע     פה    ף   ףץ    קנ     קץ  \\\n",
       "0  89567   2628   8488   9  ...    32  34  132  30241  105  124  2667   2906   \n",
       "1  24696  53948   3148  10  ...    16  54  215  10752   37  148  1619  18330   \n",
       "2  37805   4894  12363  24  ...    12  16  103  16826   40   87  1596   1648   \n",
       "3  31492    924     86   8  ...    16  16    5  19953   26   68  1821   2258   \n",
       "4  22103   4810     85   8  ...    13  14    9  14661   15   65  1224   3227   \n",
       "\n",
       "    רק     שס  \n",
       "0  209  10189  \n",
       "1  121  30579  \n",
       "2  142   3342  \n",
       "3  121   4095  \n",
       "4   74   6946  \n",
       "\n",
       "[5 rows x 32 columns]"
      ]
     },
     "execution_count": 3,
     "metadata": {},
     "output_type": "execute_result"
    }
   ],
   "source": [
    "# Q1.1\n",
    "# print the head of the Dataframe\n",
    "df_votes.head()"
   ]
  },
  {
   "cell_type": "code",
   "execution_count": 7,
   "metadata": {},
   "outputs": [
    {
     "data": {
      "text/html": [
       "<div>\n",
       "<style>\n",
       "    .dataframe thead tr:only-child th {\n",
       "        text-align: right;\n",
       "    }\n",
       "\n",
       "    .dataframe thead th {\n",
       "        text-align: left;\n",
       "    }\n",
       "\n",
       "    .dataframe tbody tr th {\n",
       "        vertical-align: top;\n",
       "    }\n",
       "</style>\n",
       "<table border=\"1\" class=\"dataframe\">\n",
       "  <thead>\n",
       "    <tr style=\"text-align: right;\">\n",
       "      <th></th>\n",
       "      <th>NAME</th>\n",
       "      <th>VOTES</th>\n",
       "    </tr>\n",
       "  </thead>\n",
       "  <tbody>\n",
       "    <tr>\n",
       "      <th>0</th>\n",
       "      <td>תל אביב - יפו</td>\n",
       "      <td>263205</td>\n",
       "    </tr>\n",
       "    <tr>\n",
       "      <th>1</th>\n",
       "      <td>ירושלים</td>\n",
       "      <td>258879</td>\n",
       "    </tr>\n",
       "    <tr>\n",
       "      <th>2</th>\n",
       "      <td>חיפה</td>\n",
       "      <td>151318</td>\n",
       "    </tr>\n",
       "    <tr>\n",
       "      <th>3</th>\n",
       "      <td>ראשון לציון</td>\n",
       "      <td>138998</td>\n",
       "    </tr>\n",
       "    <tr>\n",
       "      <th>4</th>\n",
       "      <td>פתח תקווה</td>\n",
       "      <td>125633</td>\n",
       "    </tr>\n",
       "  </tbody>\n",
       "</table>\n",
       "</div>"
      ],
      "text/plain": [
       "            NAME   VOTES\n",
       "0  תל אביב - יפו  263205\n",
       "1        ירושלים  258879\n",
       "2           חיפה  151318\n",
       "3    ראשון לציון  138998\n",
       "4      פתח תקווה  125633"
      ]
     },
     "execution_count": 7,
     "metadata": {},
     "output_type": "execute_result"
    }
   ],
   "source": [
    "# Q1.2\n",
    "# Sort the cities by the total number of votes\n",
    "cities_by_votes = df_votes.sort_values(by='VOTES', ascending=False)[['NAME','VOTES']]\n",
    "cities_by_votes.head()"
   ]
  },
  {
   "cell_type": "code",
   "execution_count": 5,
   "metadata": {},
   "outputs": [
    {
     "data": {
      "text/html": [
       "<div>\n",
       "<style>\n",
       "    .dataframe thead tr:only-child th {\n",
       "        text-align: right;\n",
       "    }\n",
       "\n",
       "    .dataframe thead th {\n",
       "        text-align: left;\n",
       "    }\n",
       "\n",
       "    .dataframe tbody tr th {\n",
       "        vertical-align: top;\n",
       "    }\n",
       "</style>\n",
       "<table border=\"1\" class=\"dataframe\">\n",
       "  <thead>\n",
       "    <tr style=\"text-align: right;\">\n",
       "      <th></th>\n",
       "      <th>NAME</th>\n",
       "      <th>voter_turnout</th>\n",
       "    </tr>\n",
       "  </thead>\n",
       "  <tbody>\n",
       "    <tr>\n",
       "      <th>0</th>\n",
       "      <td>תל אביב - יפו</td>\n",
       "      <td>0.652567</td>\n",
       "    </tr>\n",
       "    <tr>\n",
       "      <th>1</th>\n",
       "      <td>ירושלים</td>\n",
       "      <td>0.670866</td>\n",
       "    </tr>\n",
       "    <tr>\n",
       "      <th>2</th>\n",
       "      <td>חיפה</td>\n",
       "      <td>0.622006</td>\n",
       "    </tr>\n",
       "    <tr>\n",
       "      <th>3</th>\n",
       "      <td>ראשון לציון</td>\n",
       "      <td>0.709325</td>\n",
       "    </tr>\n",
       "    <tr>\n",
       "      <th>4</th>\n",
       "      <td>פתח תקווה</td>\n",
       "      <td>0.708322</td>\n",
       "    </tr>\n",
       "  </tbody>\n",
       "</table>\n",
       "</div>"
      ],
      "text/plain": [
       "            NAME  voter_turnout\n",
       "0  תל אביב - יפו       0.652567\n",
       "1        ירושלים       0.670866\n",
       "2           חיפה       0.622006\n",
       "3    ראשון לציון       0.709325\n",
       "4      פתח תקווה       0.708322"
      ]
     },
     "execution_count": 5,
     "metadata": {},
     "output_type": "execute_result"
    }
   ],
   "source": [
    "# Q1.3\n",
    "# Create a new column named \"voter_turnout\"  which represents the percentage of eligible - \n",
    "# - voters who cast a ballot in an election in each settelment\n",
    "df_votes['voter_turnout'] = df_votes['VOTES'] / df_votes['POTENTIAL_VOTERS']\n",
    "df_votes[['NAME','voter_turnout']].head()"
   ]
  },
  {
   "cell_type": "code",
   "execution_count": null,
   "metadata": {
    "collapsed": true
   },
   "outputs": [],
   "source": [
    "# Q1.4\n",
    "# Calculate the total vote each party got in the election, save it to a pd.Series object\n",
    "votes = "
   ]
  },
  {
   "cell_type": "markdown",
   "metadata": {},
   "source": [
    "## Clean the data"
   ]
  },
  {
   "cell_type": "code",
   "execution_count": null,
   "metadata": {
    "collapsed": true
   },
   "outputs": [],
   "source": [
    "# EXAMPLE: votes.drop('NAME', inplace=True)"
   ]
  },
  {
   "cell_type": "code",
   "execution_count": null,
   "metadata": {
    "collapsed": true
   },
   "outputs": [],
   "source": [
    "# Q2.1 \n",
    "# Clear from the data, columns of parties that reviceved less than 40,000 votes.\n",
    "# You can use the \"drop\" method\n"
   ]
  },
  {
   "cell_type": "code",
   "execution_count": null,
   "metadata": {
    "collapsed": true
   },
   "outputs": [],
   "source": [
    "# In Israel, אמת is the symbol for the labor party, and מחל is the symbol of the liberal-national party\n",
    "# Q2.2\n",
    "# find the \"labor advantage\" in each settelment - \n",
    "# which is the sum of votes for אמת minus the sum of votes for מחל devided by total voters \n",
    "\n"
   ]
  },
  {
   "cell_type": "markdown",
   "metadata": {},
   "source": [
    "## Add datasets "
   ]
  },
  {
   "cell_type": "markdown",
   "metadata": {},
   "source": [
    "Another dataset provided is the socioeconomic rank of Israeli settelments"
   ]
  },
  {
   "cell_type": "code",
   "execution_count": null,
   "metadata": {
    "collapsed": true
   },
   "outputs": [],
   "source": [
    "df_rank = pd.read_pickle('./socio_economy.pkl')"
   ]
  },
  {
   "cell_type": "code",
   "execution_count": null,
   "metadata": {
    "collapsed": true
   },
   "outputs": [],
   "source": [
    "# Q3.1\n",
    "# Again print the head of df_rank"
   ]
  },
  {
   "cell_type": "code",
   "execution_count": null,
   "metadata": {
    "collapsed": true
   },
   "outputs": [],
   "source": [
    "# Q3.2\n",
    "# Merge the two dataframes, use the setetlment name as a key"
   ]
  },
  {
   "cell_type": "markdown",
   "metadata": {},
   "source": [
    "We also provide religion data regarding settelments"
   ]
  },
  {
   "cell_type": "code",
   "execution_count": null,
   "metadata": {
    "collapsed": true
   },
   "outputs": [],
   "source": [
    "df_religion = pd.read_pickle('./religion.pkl')"
   ]
  },
  {
   "cell_type": "code",
   "execution_count": null,
   "metadata": {
    "collapsed": true
   },
   "outputs": [],
   "source": [
    "# This dataset contains a lot of missing values. Find a clever way of filling out the missing values if possible."
   ]
  },
  {
   "cell_type": "code",
   "execution_count": null,
   "metadata": {
    "collapsed": true
   },
   "outputs": [],
   "source": [
    "df_religion.merge(df_votes)"
   ]
  },
  {
   "cell_type": "markdown",
   "metadata": {},
   "source": [
    "## Predict"
   ]
  },
  {
   "cell_type": "code",
   "execution_count": null,
   "metadata": {
    "collapsed": true
   },
   "outputs": [],
   "source": [
    "# Extract features and try to predict the labor advantage, dont use any parrt votes (its overfitting)\n",
    "# Dont forget to split to train and test"
   ]
  },
  {
   "cell_type": "code",
   "execution_count": null,
   "metadata": {
    "collapsed": true
   },
   "outputs": [],
   "source": []
  },
  {
   "cell_type": "markdown",
   "metadata": {
    "collapsed": true
   },
   "source": [
    "## Extra "
   ]
  },
  {
   "cell_type": "markdown",
   "metadata": {},
   "source": [
    "watch this video: <a href=\"https://www.youtube.com/watch?v=Q2cUoglR1yk\"> youtube </a>\n",
    "<br>\n",
    "Now, let's examine the numbers behind this declaration"
   ]
  },
  {
   "cell_type": "code",
   "execution_count": null,
   "metadata": {
    "collapsed": true
   },
   "outputs": [],
   "source": [
    "# Extra.1\n",
    "# Calculate the voter turnout of muslim settlements vs jewish settlements. Were Arabs really flocking to the ballots?\n",
    "\n"
   ]
  },
  {
   "cell_type": "code",
   "execution_count": null,
   "metadata": {
    "collapsed": true
   },
   "outputs": [],
   "source": [
    "# Extra.2\n",
    "# Create a scatter plot, showing the \"labor advantage\" vs socioeconomic status, color by the religion of the settelment.\n",
    "# Were arabs voting for left wing parties in masses? Who did vote for left wing parties?\n",
    "\n"
   ]
  }
 ],
 "metadata": {
  "anaconda-cloud": {},
  "kernelspec": {
   "display_name": "Python 3",
   "language": "python",
   "name": "python3"
  },
  "language_info": {
   "codemirror_mode": {
    "name": "ipython",
    "version": 3
   },
   "file_extension": ".py",
   "mimetype": "text/x-python",
   "name": "python",
   "nbconvert_exporter": "python",
   "pygments_lexer": "ipython3",
   "version": "3.6.3"
  }
 },
 "nbformat": 4,
 "nbformat_minor": 1
}
