{
 "cells": [
  {
   "cell_type": "code",
   "execution_count": null,
   "metadata": {
    "ExecuteTime": {
     "end_time": "2017-07-09T20:57:48.135000Z",
     "start_time": "2017-07-09T23:57:48.130000+03:00"
    },
    "collapsed": true
   },
   "outputs": [],
   "source": [
    "import pandas as pd\n",
    "import numpy as np\n",
    "import matplotlib.pyplot as plt\n",
    "%matplotlib inline"
   ]
  },
  {
   "cell_type": "markdown",
   "metadata": {},
   "source": [
    "# Read Data"
   ]
  },
  {
   "cell_type": "markdown",
   "metadata": {},
   "source": [
    "Read the file 'twitter_arabic_sentiment.csv' using pandas DataFrame (pd.read_csv)"
   ]
  },
  {
   "cell_type": "code",
   "execution_count": null,
   "metadata": {
    "ExecuteTime": {
     "end_time": "2017-07-09T20:57:48.858000Z",
     "start_time": "2017-07-09T23:57:48.847000+03:00"
    },
    "collapsed": true
   },
   "outputs": [],
   "source": []
  },
  {
   "cell_type": "code",
   "execution_count": null,
   "metadata": {
    "ExecuteTime": {
     "end_time": "2017-07-09T20:57:49.103000Z",
     "start_time": "2017-07-09T23:57:49.090000+03:00"
    }
   },
   "outputs": [],
   "source": [
    "df_all.sample(10)"
   ]
  },
  {
   "cell_type": "markdown",
   "metadata": {},
   "source": [
    "#  Data Exploration"
   ]
  },
  {
   "cell_type": "markdown",
   "metadata": {},
   "source": [
    "feel the data...\n",
    "Is the length of a twitt can indicate it's sentiment?"
   ]
  },
  {
   "cell_type": "code",
   "execution_count": null,
   "metadata": {
    "ExecuteTime": {
     "end_time": "2017-07-09T22:17:09.201000Z",
     "start_time": "2017-07-09T22:17:09.198000Z"
    },
    "scrolled": true
   },
   "outputs": [],
   "source": [
    "df_all['text_len'] = "
   ]
  },
  {
   "cell_type": "code",
   "execution_count": null,
   "metadata": {
    "ExecuteTime": {
     "end_time": "2017-07-09T20:57:52.227000Z",
     "start_time": "2017-07-09T23:57:51.914000+03:00"
    }
   },
   "outputs": [],
   "source": [
    "#plot two the histogram of text_len vs. semtiment (2 histograms)"
   ]
  },
  {
   "cell_type": "code",
   "execution_count": null,
   "metadata": {
    "ExecuteTime": {
     "end_time": "2017-07-09T20:57:52.446000Z",
     "start_time": "2017-07-09T23:57:52.441000+03:00"
    },
    "collapsed": true
   },
   "outputs": [],
   "source": [
    "df_all['text_words_count'] = "
   ]
  },
  {
   "cell_type": "code",
   "execution_count": null,
   "metadata": {
    "ExecuteTime": {
     "end_time": "2017-07-09T22:17:00.945000Z",
     "start_time": "2017-07-09T22:17:00.941000Z"
    }
   },
   "outputs": [],
   "source": [
    "#plot two the histogram of word count vs. semtiment (2 histograms)"
   ]
  },
  {
   "cell_type": "markdown",
   "metadata": {},
   "source": [
    "# Bag of Words"
   ]
  },
  {
   "cell_type": "markdown",
   "metadata": {},
   "source": [
    "Create a vector for each row of it's 'Bag of Words'. (sklearn.feature_extraction.text.CountVectorizer ?)"
   ]
  },
  {
   "cell_type": "code",
   "execution_count": null,
   "metadata": {
    "ExecuteTime": {
     "end_time": "2017-07-09T20:57:56.506000Z",
     "start_time": "2017-07-09T23:57:56.504000+03:00"
    },
    "collapsed": true
   },
   "outputs": [],
   "source": [
    "from sklearn.feature_extraction.text import CountVectorizer"
   ]
  },
  {
   "cell_type": "code",
   "execution_count": null,
   "metadata": {},
   "outputs": [],
   "source": [
    "# words_counter = ?"
   ]
  },
  {
   "cell_type": "code",
   "execution_count": null,
   "metadata": {},
   "outputs": [],
   "source": [
    "words_idx = sorted(words_counter.vocabulary_.keys(), key=lambda w: words_counter.vocabulary_[w])"
   ]
  },
  {
   "cell_type": "markdown",
   "metadata": {
    "collapsed": true
   },
   "source": [
    "# Decision Tree"
   ]
  },
  {
   "cell_type": "markdown",
   "metadata": {},
   "source": [
    "Now train a decition tree to learn the sentiment from the vector (sklearn.tree.DecisionTreeClassifier)\n",
    "\n",
    "*** DONT FORGET TO CREATE A VALIDATION SET  (sklearn.cross_validation.train_test_split) ***"
   ]
  },
  {
   "cell_type": "code",
   "execution_count": null,
   "metadata": {
    "ExecuteTime": {
     "end_time": "2017-07-09T20:58:00.589000Z",
     "start_time": "2017-07-09T23:58:00.587000+03:00"
    },
    "collapsed": true
   },
   "outputs": [],
   "source": [
    "from sklearn.tree import DecisionTreeClassifier\n",
    "from sklearn.cross_validation import train_test_split"
   ]
  },
  {
   "cell_type": "code",
   "execution_count": null,
   "metadata": {
    "ExecuteTime": {
     "end_time": "2017-07-09T20:58:01.367000Z",
     "start_time": "2017-07-09T23:58:01.364000+03:00"
    },
    "collapsed": true
   },
   "outputs": [],
   "source": [
    "X_train, X_val, y_train, y_val = train_test_split(text_counts, df_all['sentiment'].values, \n",
    "                                                  test_size=0.7, random_state=1989)"
   ]
  },
  {
   "cell_type": "code",
   "execution_count": null,
   "metadata": {
    "ExecuteTime": {
     "end_time": "2017-07-09T20:58:05.968000Z",
     "start_time": "2017-07-09T23:58:05.952000+03:00"
    },
    "collapsed": true
   },
   "outputs": [],
   "source": [
    "# dt = "
   ]
  },
  {
   "cell_type": "code",
   "execution_count": null,
   "metadata": {
    "ExecuteTime": {
     "end_time": "2017-07-09T20:58:06.735000Z",
     "start_time": "2017-07-09T23:58:06.729000+03:00"
    }
   },
   "outputs": [],
   "source": [
    "print 'Train score: {0:.2%}'.format(dt.score(X_train, y_train))\n",
    "print 'Val score: {0:.2%}'.format(dt.score(X_val, y_val))"
   ]
  },
  {
   "cell_type": "code",
   "execution_count": null,
   "metadata": {
    "ExecuteTime": {
     "end_time": "2017-07-09T20:58:09.534000Z",
     "start_time": "2017-07-09T23:58:09.528000+03:00"
    }
   },
   "outputs": [],
   "source": [
    "for i in np.argsort(dt.feature_importances_)[::-1][:10]:\n",
    "    print '%.4f' % dt.feature_importances_[i], words_idx[i]"
   ]
  },
  {
   "cell_type": "code",
   "execution_count": null,
   "metadata": {
    "ExecuteTime": {
     "end_time": "2017-07-09T20:58:13.734000Z",
     "start_time": "2017-07-09T23:58:13.729000+03:00"
    }
   },
   "outputs": [],
   "source": [
    "dt.predict(words_counter.transform([u'الحب في الله شيء جميل جدا']))"
   ]
  },
  {
   "cell_type": "code",
   "execution_count": null,
   "metadata": {
    "collapsed": true
   },
   "outputs": [],
   "source": []
  }
 ],
 "metadata": {
  "kernelspec": {
   "display_name": "Python 2",
   "language": "python",
   "name": "python2"
  },
  "language_info": {
   "codemirror_mode": {
    "name": "ipython",
    "version": 2
   },
   "file_extension": ".py",
   "mimetype": "text/x-python",
   "name": "python",
   "nbconvert_exporter": "python",
   "pygments_lexer": "ipython2",
   "version": "2.7.12"
  }
 },
 "nbformat": 4,
 "nbformat_minor": 1
}
