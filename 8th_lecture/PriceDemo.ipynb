{
  "cells": [
    {
      "metadata": {
        "_cell_guid": "acff5e91-5a3f-44f7-8d40-a6e96096d850",
        "_uuid": "d064ea2ea28c69ae17b44b7b405431b91b80aeaf",
        "trusted": true
      },
      "cell_type": "code",
      "source": "# This Python 3 environment comes with many helpful analytics libraries installed\n# It is defined by the kaggle/python docker image: https://github.com/kaggle/docker-python\n# For example, here's several helpful packages to load in \n\nimport numpy as np # linear algebra\nimport pandas as pd # data processing, CSV file I/O (e.g. pd.read_csv)\n\n# Input data files are available in the \"../input/\" directory.\n# For example, running this (by clicking run or pressing Shift+Enter) will list the files in the input directory\n\nfrom subprocess import check_output\nprint(check_output([\"ls\", \"../input\"]).decode(\"utf8\"))\n\n# Any results you write to the current directory are saved as output.",
      "execution_count": null,
      "outputs": []
    },
    {
      "metadata": {
        "trusted": true,
        "_uuid": "4e155360a870669a87bf47b89a18f089a2dbb747"
      },
      "cell_type": "code",
      "source": "import pandas as pd\nimport numpy as np\nfrom scipy import sparse\nfrom matplotlib import pyplot as plt\nfrom sklearn.ensemble import RandomForestRegressor\nfrom sklearn.cross_validation import train_test_split\nfrom xgboost import XGBClassifier\n\nfrom sklearn.feature_extraction.text import TfidfVectorizer\n%matplotlib inline",
      "execution_count": 16,
      "outputs": []
    },
    {
      "metadata": {
        "trusted": true,
        "_uuid": "f3bcd3033726dc24f368d6f00011097d2d45eb95"
      },
      "cell_type": "code",
      "source": "# df_original = pd.read_csv('../input/train.tsv', sep='\\t')\n## Simple Features \ndf = df_original[:10000]\ndf = df[df['price'] > 0.1]\n# df.info()\n\ndf.shape",
      "execution_count": 36,
      "outputs": [
        {
          "output_type": "execute_result",
          "execution_count": 36,
          "data": {
            "text/plain": "(9991, 8)"
          },
          "metadata": {}
        }
      ]
    },
    {
      "metadata": {
        "trusted": true,
        "_uuid": "da754438484e2bd620ad3ca3e1b3c359dff3cdde"
      },
      "cell_type": "code",
      "source": "sorted = df.sort_values(by='price', ascending=False)\n# sorted.head()\nsorted.tail()",
      "execution_count": 37,
      "outputs": [
        {
          "output_type": "execute_result",
          "execution_count": 37,
          "data": {
            "text/plain": "      train_id                                      name  item_condition_id  \\\n7129      7129                          Brows beauty set                  1   \n967        967  Biore nose face strips blackhead remover                  1   \n3793      3793                              Yellow thong                  2   \n3769      3769    5 Gerber Good Start Formula Coupons FS                  1   \n3915      3915                   2 pack of black chokers                  1   \n\n                           category_name         brand_name  price  shipping  \\\n7129                  Beauty/Makeup/Eyes                NaN    3.0         1   \n967                Beauty/Skin Care/Face              Biore    3.0         1   \n3793  Women/Underwear/G-Strings & Thongs                NaN    3.0         1   \n3769         Kids/Feeding/Bottle-Feeding  Gerber Good Start    3.0         1   \n3915             Women/Jewelry/Necklaces                NaN    3.0         1   \n\n                                       item_description  \n7129                                 No description yet  \n967         Set of nose and face strip Ship in envelope  \n3793                                         Never worn  \n3769  Save [rm] when you buy any (1) 22oz. or larger...  \n3915                                    2 black chokers  ",
            "text/html": "<div>\n<style>\n    .dataframe thead tr:only-child th {\n        text-align: right;\n    }\n\n    .dataframe thead th {\n        text-align: left;\n    }\n\n    .dataframe tbody tr th {\n        vertical-align: top;\n    }\n</style>\n<table border=\"1\" class=\"dataframe\">\n  <thead>\n    <tr style=\"text-align: right;\">\n      <th></th>\n      <th>train_id</th>\n      <th>name</th>\n      <th>item_condition_id</th>\n      <th>category_name</th>\n      <th>brand_name</th>\n      <th>price</th>\n      <th>shipping</th>\n      <th>item_description</th>\n    </tr>\n  </thead>\n  <tbody>\n    <tr>\n      <th>7129</th>\n      <td>7129</td>\n      <td>Brows beauty set</td>\n      <td>1</td>\n      <td>Beauty/Makeup/Eyes</td>\n      <td>NaN</td>\n      <td>3.0</td>\n      <td>1</td>\n      <td>No description yet</td>\n    </tr>\n    <tr>\n      <th>967</th>\n      <td>967</td>\n      <td>Biore nose face strips blackhead remover</td>\n      <td>1</td>\n      <td>Beauty/Skin Care/Face</td>\n      <td>Biore</td>\n      <td>3.0</td>\n      <td>1</td>\n      <td>Set of nose and face strip Ship in envelope</td>\n    </tr>\n    <tr>\n      <th>3793</th>\n      <td>3793</td>\n      <td>Yellow thong</td>\n      <td>2</td>\n      <td>Women/Underwear/G-Strings &amp; Thongs</td>\n      <td>NaN</td>\n      <td>3.0</td>\n      <td>1</td>\n      <td>Never worn</td>\n    </tr>\n    <tr>\n      <th>3769</th>\n      <td>3769</td>\n      <td>5 Gerber Good Start Formula Coupons FS</td>\n      <td>1</td>\n      <td>Kids/Feeding/Bottle-Feeding</td>\n      <td>Gerber Good Start</td>\n      <td>3.0</td>\n      <td>1</td>\n      <td>Save [rm] when you buy any (1) 22oz. or larger...</td>\n    </tr>\n    <tr>\n      <th>3915</th>\n      <td>3915</td>\n      <td>2 pack of black chokers</td>\n      <td>1</td>\n      <td>Women/Jewelry/Necklaces</td>\n      <td>NaN</td>\n      <td>3.0</td>\n      <td>1</td>\n      <td>2 black chokers</td>\n    </tr>\n  </tbody>\n</table>\n</div>"
          },
          "metadata": {}
        }
      ]
    },
    {
      "metadata": {
        "trusted": true,
        "_uuid": "4fe0337b624bbcbfcea777f0232c084a9c359220"
      },
      "cell_type": "code",
      "source": "stop_words = [\"a\", \"an\", \"the\", \"and\", \"or\", \"but\", \"nor\"]\ntry:\n    words_vecs = sparse.load_npz('words_vecs.npz')\n    print('loaded word_vecs from disc')\nexcept:\n    name_vectorizer = TfidfVectorizer(stop_words=stop_words, ngram_range=(1, 3))\n    words_vecs = name_vectorizer.fit_transform(df['name'] + ' ' + df['item_description'])\n    sparse.save_npz('words_vecs.npz', words_vecs)\nwords_vecs",
      "execution_count": 21,
      "outputs": [
        {
          "output_type": "stream",
          "text": "loaded word_vecs from disc\n",
          "name": "stdout"
        },
        {
          "output_type": "execute_result",
          "execution_count": 21,
          "data": {
            "text/plain": "<1482535x2982286 sparse matrix of type '<class 'numpy.float64'>'\n\twith 14128827 stored elements in Compressed Sparse Row format>"
          },
          "metadata": {}
        }
      ]
    },
    {
      "metadata": {
        "trusted": true,
        "collapsed": true,
        "_uuid": "372640a25343bf43f5ba363d0e1508a680253f9e"
      },
      "cell_type": "code",
      "source": "sparse.save_npz('words_vecs.npz', words_vecs)",
      "execution_count": 17,
      "outputs": []
    },
    {
      "metadata": {
        "trusted": true,
        "collapsed": true,
        "_uuid": "2288aaf6eedd2d7e91b1cc77ddd1ef8619f4fbad"
      },
      "cell_type": "code",
      "source": "from sklearn import decomposition\nfrom sklearn.decomposition import TruncatedSVD\nfrom sklearn.decomposition import PCA",
      "execution_count": 5,
      "outputs": []
    },
    {
      "metadata": {
        "trusted": true,
        "_uuid": "27a63d402870d3b302ba65358a1d55aad40405ba"
      },
      "cell_type": "code",
      "source": "n_pca_components = 10\n# pca = PCA(n_components=n_pca_components)\npca = TruncatedSVD(n_components=n_pca_components)\npca_words_vecs = pca.fit_transform(words_vecs)",
      "execution_count": 6,
      "outputs": []
    },
    {
      "metadata": {
        "trusted": true,
        "_uuid": "25f1e5ce9cdc2785ba8c2177015184e49ab07a2e"
      },
      "cell_type": "code",
      "source": "pca_df = pd.DataFrame(pca_words_vecs, columns=('pca_' + str(i) for i in range(n_pca_components)))\ndf = df.join(pca_df)",
      "execution_count": 8,
      "outputs": []
    },
    {
      "metadata": {
        "trusted": true,
        "_uuid": "438b8fe8f259a3aefd51d30f585ed5a11fccde70"
      },
      "cell_type": "code",
      "source": "df['cat_split'] = df['category_name'].apply(lambda x: str(x).split('/'))\n\ndf['cat_1'] = df['cat_split'].apply(lambda x : x[0] if len(x)> 0 else None)\n\ndf['cat_1'].value_counts().plot(kind='bar')\nplt.show()\n\ndf['cat_2'] = df['cat_split'].apply(lambda x : x[1] if len(x)> 1 else None)\ndf['cat_3'] = df['cat_split'].apply(lambda x : x[2] if len(x)> 2 else None)\n\n# df['cat_2'].value_counts().head()",
      "execution_count": 9,
      "outputs": [
        {
          "output_type": "display_data",
          "data": {
            "text/plain": "<matplotlib.figure.Figure at 0x7fb704ac4160>",
            "image/png": "[encoded data removed]"
          },
          "metadata": {}
        }
      ]
    },
    {
      "metadata": {
        "trusted": true,
        "_uuid": "2ba7d319b844ff763a1d11a58c29486f062b9200"
      },
      "cell_type": "code",
      "source": "## Strings to numbers ",
      "execution_count": 10,
      "outputs": []
    },
    {
      "metadata": {
        "trusted": true,
        "collapsed": true,
        "_uuid": "72e1a177d7cd693e1d23bcd50ec3e8e1d6df7c2e"
      },
      "cell_type": "code",
      "source": "df['brand_name_freq'] = df['brand_name'].map(df['brand_name'].value_counts())",
      "execution_count": 11,
      "outputs": []
    },
    {
      "metadata": {
        "trusted": true,
        "_uuid": "61da5f349dd1ee7d40df113bb69c7a4ee52f4239"
      },
      "cell_type": "code",
      "source": "df_numbers = df[df.columns[df.dtypes != object]]\n\ndf_numbers.fillna(0, inplace=True)\n\nfeatures = df_numbers.columns.tolist()\nfeatures.remove('price')\n\nfeatures.remove('train_id')\n\nlabel = 'price'",
      "execution_count": 12,
      "outputs": [
        {
          "output_type": "stream",
          "text": "/opt/conda/lib/python3.6/site-packages/pandas/core/frame.py:2754: SettingWithCopyWarning: \nA value is trying to be set on a copy of a slice from a DataFrame\n\nSee the caveats in the documentation: http://pandas.pydata.org/pandas-docs/stable/indexing.html#indexing-view-versus-copy\n  downcast=downcast, **kwargs)\n",
          "name": "stderr"
        }
      ]
    },
    {
      "metadata": {
        "trusted": true,
        "_uuid": "fd15dd2b204925f7dce1c0146975b2044a35440a"
      },
      "cell_type": "code",
      "source": "X = df_numbers[features]\ny = df_numbers[label]\n\nX_train, X_test, y_train, y_test = train_test_split(X, y, test_size=0.3)\n\nrfr = RandomForestRegressor(n_estimators=50, max_depth=4, verbose=100, n_jobs=-1)\n# rfr = RandomForestRegressor(n_estimators=2, max_depth=4, verbose=100, n_jobs=-1)\nrfr.fit(X_train, y_train)",
      "execution_count": 13,
      "outputs": [
        {
          "output_type": "stream",
          "text": "building tree 1 of 50building tree 2 of 50building tree 3 of 50building tree 4 of 50building tree 5 of 50building tree 6 of 50building tree 7 of 50building tree 8 of 50building tree 9 of 50building tree 10 of 50building tree 11 of 50building tree 12 of 50building tree 13 of 50building tree 14 of 50building tree 15 of 50building tree 16 of 50building tree 17 of 50building tree 18 of 50building tree 20 of 50building tree 21 of 50building tree 22 of 50building tree 23 of 50building tree 24 of 50building tree 25 of 50building tree 26 of 50building tree 27 of 50building tree 28 of 50building tree 29 of 50building tree 19 of 50building tree 30 of 50building tree 31 of 50building tree 32 of 50\n\n\n\n\n\n\n\n\n\n\n\n\n\n\n\n\n\n\n\n\n\n\n\n\n\n\n\n\n\n\n\nbuilding tree 33 of 50[Parallel(n_jobs=-1)]: Done   1 tasks      | elapsed:   38.4s\n\n[Parallel(n_jobs=-1)]: Done   2 out of  50 | elapsed:   40.0s remaining: 16.0min\nbuilding tree 34 of 50\nbuilding tree 35 of 50[Parallel(n_jobs=-1)]: Done   3 out of  50 | elapsed:   40.4s remaining: 10.6min\n\n[Parallel(n_jobs=-1)]: Done   4 out of  50 | elapsed:   40.5s remaining:  7.8min\nbuilding tree 36 of 50\nbuilding tree 37 of 50\n[Parallel(n_jobs=-1)]: Done   5 out of  50 | elapsed:   40.9s remaining:  6.1min\n[Parallel(n_jobs=-1)]: Done   6 out of  50 | elapsed:   40.9s remaining:  5.0min\nbuilding tree 38 of 50\n[Parallel(n_jobs=-1)]: Done   7 out of  50 | elapsed:   41.3s remaining:  4.2min\nbuilding tree 39 of 50\n[Parallel(n_jobs=-1)]: Done   8 out of  50 | elapsed:   41.4s remaining:  3.6min\nbuilding tree 40 of 50\nbuilding tree 41 of 50[Parallel(n_jobs=-1)]: Done   9 out of  50 | elapsed:   41.5s remaining:  3.2min\n[Parallel(n_jobs=-1)]: Done  10 out of  50 | elapsed:   41.5s remaining:  2.8min\nbuilding tree 42 of 50\n\nbuilding tree 43 of 50\n[Parallel(n_jobs=-1)]: Done  11 out of  50 | elapsed:   41.7s remaining:  2.5min\n[Parallel(n_jobs=-1)]: Done  12 out of  50 | elapsed:   42.1s remaining:  2.2min\nbuilding tree 44 of 50\n[Parallel(n_jobs=-1)]: Done  13 out of  50 | elapsed:   42.3s remaining:  2.0min\nbuilding tree 45 of 50\n[Parallel(n_jobs=-1)]: Done  14 out of  50 | elapsed:   42.5s remaining:  1.8min\nbuilding tree 46 of 50\nbuilding tree 47 of 50building tree 48 of 50[Parallel(n_jobs=-1)]: Done  15 out of  50 | elapsed:   42.7s remaining:  1.7min\n\n[Parallel(n_jobs=-1)]: Done  16 out of  50 | elapsed:   42.7s remaining:  1.5min\n\n[Parallel(n_jobs=-1)]: Done  17 out of  50 | elapsed:   42.8s remaining:  1.4min\nbuilding tree 49 of 50\n[Parallel(n_jobs=-1)]: Done  18 out of  50 | elapsed:   43.6s remaining:  1.3min\nbuilding tree 50 of 50\n[Parallel(n_jobs=-1)]: Done  19 out of  50 | elapsed:   44.5s remaining:  1.2min\n[Parallel(n_jobs=-1)]: Done  20 out of  50 | elapsed:   45.6s remaining:  1.1min\n[Parallel(n_jobs=-1)]: Done  21 out of  50 | elapsed:   45.8s remaining:  1.1min\n[Parallel(n_jobs=-1)]: Done  22 out of  50 | elapsed:   45.8s remaining:   58.2s\n[Parallel(n_jobs=-1)]: Done  23 out of  50 | elapsed:   46.2s remaining:   54.2s\n[Parallel(n_jobs=-1)]: Done  24 out of  50 | elapsed:   48.2s remaining:   52.2s\n[Parallel(n_jobs=-1)]: Done  25 out of  50 | elapsed:   48.3s remaining:   48.3s\n[Parallel(n_jobs=-1)]: Done  26 out of  50 | elapsed:   48.5s remaining:   44.8s\n[Parallel(n_jobs=-1)]: Done  27 out of  50 | elapsed:   48.7s remaining:   41.4s\n[Parallel(n_jobs=-1)]: Done  28 out of  50 | elapsed:   51.3s remaining:   40.3s\n[Parallel(n_jobs=-1)]: Done  29 out of  50 | elapsed:   51.5s remaining:   37.3s\n[Parallel(n_jobs=-1)]: Done  30 out of  50 | elapsed:   57.5s remaining:   38.4s\n[Parallel(n_jobs=-1)]: Done  31 out of  50 | elapsed:   59.2s remaining:   36.3s\n[Parallel(n_jobs=-1)]: Done  32 out of  50 | elapsed:  1.0min remaining:   35.3s\n[Parallel(n_jobs=-1)]: Done  33 out of  50 | elapsed:  1.1min remaining:   35.3s\n[Parallel(n_jobs=-1)]: Done  34 out of  50 | elapsed:  1.2min remaining:   32.6s\n[Parallel(n_jobs=-1)]: Done  35 out of  50 | elapsed:  1.2min remaining:   29.8s\n[Parallel(n_jobs=-1)]: Done  36 out of  50 | elapsed:  1.2min remaining:   27.1s\n[Parallel(n_jobs=-1)]: Done  37 out of  50 | elapsed:  1.2min remaining:   24.6s\n[Parallel(n_jobs=-1)]: Done  38 out of  50 | elapsed:  1.2min remaining:   22.2s\n[Parallel(n_jobs=-1)]: Done  39 out of  50 | elapsed:  1.2min remaining:   19.8s\n[Parallel(n_jobs=-1)]: Done  40 out of  50 | elapsed:  1.2min remaining:   17.7s\n[Parallel(n_jobs=-1)]: Done  41 out of  50 | elapsed:  1.2min remaining:   15.5s\n[Parallel(n_jobs=-1)]: Done  42 out of  50 | elapsed:  1.2min remaining:   13.5s\n[Parallel(n_jobs=-1)]: Done  43 out of  50 | elapsed:  1.2min remaining:   11.6s\n[Parallel(n_jobs=-1)]: Done  44 out of  50 | elapsed:  1.2min remaining:    9.7s\n[Parallel(n_jobs=-1)]: Done  45 out of  50 | elapsed:  1.2min remaining:    8.0s\n[Parallel(n_jobs=-1)]: Done  46 out of  50 | elapsed:  1.2min remaining:    6.2s\n[Parallel(n_jobs=-1)]: Done  47 out of  50 | elapsed:  1.2min remaining:    4.6s\n[Parallel(n_jobs=-1)]: Done  48 out of  50 | elapsed:  1.2min remaining:    3.0s\n[Parallel(n_jobs=-1)]: Done  50 out of  50 | elapsed:  1.2min remaining:    0.0s\n[Parallel(n_jobs=-1)]: Done  50 out of  50 | elapsed:  1.2min finished\n",
          "name": "stdout"
        },
        {
          "output_type": "execute_result",
          "execution_count": 13,
          "data": {
            "text/plain": "RandomForestRegressor(bootstrap=True, criterion='mse', max_depth=4,\n           max_features='auto', max_leaf_nodes=None,\n           min_impurity_decrease=0.0, min_impurity_split=None,\n           min_samples_leaf=1, min_samples_split=2,\n           min_weight_fraction_leaf=0.0, n_estimators=50, n_jobs=-1,\n           oob_score=False, random_state=None, verbose=100,\n           warm_start=False)"
          },
          "metadata": {}
        }
      ]
    },
    {
      "metadata": {
        "trusted": true,
        "_uuid": "24e1daebd907bfa2d254251bbd0e91197c6cbd28"
      },
      "cell_type": "code",
      "source": "## Evaluate \n\nfrom sklearn.metrics import mean_squared_log_error\n\nrfr.set_params(verbose=0)\n\npredictions = rfr.predict(X_test)\n\nmean_squared_log_error(predictions, y_test)**0.5",
      "execution_count": 14,
      "outputs": [
        {
          "output_type": "execute_result",
          "execution_count": 14,
          "data": {
            "text/plain": "0.75336940872172009"
          },
          "metadata": {}
        }
      ]
    },
    {
      "metadata": {
        "trusted": true,
        "_uuid": "7ce72ea633bf178fde4bf5e6d88f842b75b2da3d"
      },
      "cell_type": "code",
      "source": "df_importance = pd.DataFrame()\ndf_importance['features'] = features\n\nlist(zip(features, rfr.feature_importances_))",
      "execution_count": 15,
      "outputs": [
        {
          "output_type": "execute_result",
          "execution_count": 15,
          "data": {
            "text/plain": "[('item_condition_id', 0.0065130740272710194),\n ('shipping', 0.047056953091413153),\n ('pca_0', 0.0027610197238222738),\n ('pca_1', 0.00041020995913862776),\n ('pca_2', 0.0071572304193089952),\n ('pca_3', 0.081011453763622662),\n ('pca_4', 0.0),\n ('pca_5', 0.21871226500236951),\n ('pca_6', 0.10413777751395523),\n ('pca_7', 0.0),\n ('pca_8', 0.0),\n ('pca_9', 0.0013010610903020298),\n ('cat_1_freq', 0.16494819759121884),\n ('cat_2_freq', 0.030909405831551117),\n ('cat_3_freq', 0.1080767329123772),\n ('brand_name_freq', 0.2270046190736493)]"
          },
          "metadata": {}
        }
      ]
    },
    {
      "metadata": {
        "trusted": true,
        "collapsed": true,
        "_uuid": "b7a05266faba789c7dcf6335852f34aaca8c2157"
      },
      "cell_type": "code",
      "source": "",
      "execution_count": null,
      "outputs": []
    }
  ],
  "metadata": {
    "kernelspec": {
      "display_name": "Python 3",
      "language": "python",
      "name": "python3"
    },
    "language_info": {
      "name": "python",
      "version": "3.6.4",
      "mimetype": "text/x-python",
      "codemirror_mode": {
        "name": "ipython",
        "version": 3
      },
      "pygments_lexer": "ipython3",
      "nbconvert_exporter": "python",
      "file_extension": ".py"
    }
  },
  "nbformat": 4,
  "nbformat_minor": 1
}