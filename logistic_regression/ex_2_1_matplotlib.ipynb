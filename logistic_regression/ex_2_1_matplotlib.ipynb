{
 "cells": [
  {
   "cell_type": "code",
   "execution_count": 1,
   "metadata": {
    "ExecuteTime": {
     "end_time": "2017-06-30T19:42:53.295000",
     "start_time": "2017-06-30T19:42:49.909000"
    },
    "collapsed": true
   },
   "outputs": [],
   "source": [
    "from matplotlib import cm\n",
    "import matplotlib.pyplot as plt\n",
    "import pandas as pd\n",
    "import numpy as np"
   ]
  },
  {
   "cell_type": "code",
   "execution_count": 2,
   "metadata": {
    "ExecuteTime": {
     "end_time": "2017-06-30T19:42:53.539000",
     "start_time": "2017-06-30T19:42:53.297000"
    },
    "collapsed": true
   },
   "outputs": [],
   "source": [
    "df_taxi =pd.read_csv(r'./yellow_tripdata_2016-01_small.csv')"
   ]
  },
  {
   "cell_type": "code",
   "execution_count": 3,
   "metadata": {
    "ExecuteTime": {
     "end_time": "2017-06-30T19:42:54.154000",
     "start_time": "2017-06-30T19:42:54.148000"
    },
    "collapsed": false
   },
   "outputs": [
    {
     "data": {
      "text/plain": [
       "Unnamed: 0                 int64\n",
       "VendorID                   int64\n",
       "tpep_pickup_datetime      object\n",
       "tpep_dropoff_datetime     object\n",
       "passenger_count            int64\n",
       "trip_distance            float64\n",
       "pickup_longitude         float64\n",
       "pickup_latitude          float64\n",
       "RatecodeID                 int64\n",
       "store_and_fwd_flag        object\n",
       "dropoff_longitude        float64\n",
       "dropoff_latitude         float64\n",
       "payment_type               int64\n",
       "fare_amount              float64\n",
       "extra                    float64\n",
       "mta_tax                  float64\n",
       "tip_amount               float64\n",
       "tolls_amount             float64\n",
       "improvement_surcharge    float64\n",
       "total_amount             float64\n",
       "dtype: object"
      ]
     },
     "execution_count": 3,
     "metadata": {},
     "output_type": "execute_result"
    }
   ],
   "source": [
    "df_taxi.dtypes"
   ]
  },
  {
   "cell_type": "code",
   "execution_count": 4,
   "metadata": {
    "ExecuteTime": {
     "end_time": "2017-06-30T19:43:06.378000",
     "start_time": "2017-06-30T19:43:06.376000"
    },
    "collapsed": false
   },
   "outputs": [],
   "source": [
    "#draw as scatter plot of the pickup locations (latitude is x, longitude is y)"
   ]
  },
  {
   "cell_type": "code",
   "execution_count": 5,
   "metadata": {
    "ExecuteTime": {
     "end_time": "2017-06-30T19:43:11.649000",
     "start_time": "2017-06-30T19:43:11.647000"
    },
    "collapsed": false
   },
   "outputs": [],
   "source": [
    "#draw as scatter plot of the dropoff locations (latitude is x, longitude is y)"
   ]
  },
  {
   "cell_type": "markdown",
   "metadata": {},
   "source": [
    "## Histograms "
   ]
  },
  {
   "cell_type": "code",
   "execution_count": 35,
   "metadata": {
    "ExecuteTime": {
     "end_time": "2017-06-30T18:32:40.308000",
     "start_time": "2017-06-30T18:32:40.001000"
    },
    "collapsed": false
   },
   "outputs": [],
   "source": [
    "df_taxi['tpep_pickup_datetime'] = df_taxi['tpep_pickup_datetime'].apply(pd.Timestamp)\n",
    "df_taxi['hour_of_day'] = df_taxi['tpep_pickup_datetime'].dt.hour"
   ]
  },
  {
   "cell_type": "code",
   "execution_count": 46,
   "metadata": {
    "ExecuteTime": {
     "end_time": "2017-06-30T18:35:35.349000",
     "start_time": "2017-06-30T18:35:35.181000"
    },
    "collapsed": false
   },
   "outputs": [
    {
     "data": {
      "image/png": "[encoded data removed]",
      "text/plain": [
       "<matplotlib.figure.Figure at 0x8d3039e8>"
      ]
     },
     "metadata": {},
     "output_type": "display_data"
    }
   ],
   "source": [
    "#plot a histogram of rides by hour (it should have 24 bins)"
   ]
  },
  {
   "cell_type": "code",
   "execution_count": 6,
   "metadata": {
    "ExecuteTime": {
     "end_time": "2017-06-30T19:44:15.012000",
     "start_time": "2017-06-30T19:44:15.009000"
    },
    "collapsed": false
   },
   "outputs": [],
   "source": [
    "#plot a histogram of ride prices, consider a reasonable range of prices"
   ]
  },
  {
   "cell_type": "markdown",
   "metadata": {},
   "source": [
    "## Extra "
   ]
  },
  {
   "cell_type": "code",
   "execution_count": 7,
   "metadata": {
    "ExecuteTime": {
     "end_time": "2017-06-30T19:44:16.302000",
     "start_time": "2017-06-30T19:44:16.300000"
    },
    "collapsed": false
   },
   "outputs": [],
   "source": [
    "# plot a graph showing the relation between travel distance and trip fare\n",
    "# make the size of the points proportional to the standard devoation\n",
    "# make the color of the point proportional to the number of rides"
   ]
  },
  {
   "cell_type": "code",
   "execution_count": null,
   "metadata": {
    "collapsed": true
   },
   "outputs": [],
   "source": []
  }
 ],
 "metadata": {
  "kernelspec": {
   "display_name": "Python [conda root]",
   "language": "python",
   "name": "conda-root-py"
  },
  "language_info": {
   "codemirror_mode": {
    "name": "ipython",
    "version": 2
   },
   "file_extension": ".py",
   "mimetype": "text/x-python",
   "name": "python",
   "nbconvert_exporter": "python",
   "pygments_lexer": "ipython2",
   "version": "2.7.13"
  }
 },
 "nbformat": 4,
 "nbformat_minor": 2
}
