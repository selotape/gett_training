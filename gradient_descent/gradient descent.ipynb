{
 "cells": [
  {
   "cell_type": "code",
   "execution_count": null,
   "metadata": {
    "ExecuteTime": {
     "end_time": "2017-06-24T15:08:17.104000",
     "start_time": "2017-06-24T15:08:16.754000"
    },
    "collapsed": true
   },
   "outputs": [],
   "source": [
    "import numpy as np\n",
    "import pandas as pd\n",
    "from matplotlib import pylab as plt\n",
    "%matplotlib inline"
   ]
  },
  {
   "cell_type": "markdown",
   "metadata": {},
   "source": [
    "## Prepare dataset"
   ]
  },
  {
   "cell_type": "code",
   "execution_count": null,
   "metadata": {
    "ExecuteTime": {
     "end_time": "2017-06-24T15:12:36.991000",
     "start_time": "2017-06-24T15:12:36.986000"
    },
    "collapsed": true
   },
   "outputs": [],
   "source": [
    "df_train = pd.read_csv('./train.csv')\n",
    "df_test = pd.read_csv('./test.csv')"
   ]
  },
  {
   "cell_type": "code",
   "execution_count": null,
   "metadata": {
    "ExecuteTime": {
     "end_time": "2017-06-24T15:14:30.987000",
     "start_time": "2017-06-24T15:14:30.980000"
    }
   },
   "outputs": [],
   "source": [
    "df_test.head()"
   ]
  },
  {
   "cell_type": "code",
   "execution_count": null,
   "metadata": {
    "ExecuteTime": {
     "end_time": "2017-06-24T15:14:38.135000",
     "start_time": "2017-06-24T15:14:38.129000"
    }
   },
   "outputs": [],
   "source": [
    "df_train.head()"
   ]
  },
  {
   "cell_type": "code",
   "execution_count": null,
   "metadata": {
    "ExecuteTime": {
     "end_time": "2017-06-24T15:15:24.588000",
     "start_time": "2017-06-24T15:15:24.586000"
    }
   },
   "outputs": [],
   "source": [
    "#make sure to add the bias term\n",
    "X = None\n",
    "y = None"
   ]
  },
  {
   "cell_type": "markdown",
   "metadata": {},
   "source": [
    "## Gradient Descent"
   ]
  },
  {
   "cell_type": "code",
   "execution_count": null,
   "metadata": {
    "ExecuteTime": {
     "end_time": "2017-06-24T15:15:41.234000",
     "start_time": "2017-06-24T15:15:41.228000"
    }
   },
   "outputs": [],
   "source": [
    "#implement gradient descent\n",
    "# it is recommended that you print the error for every iteration\n",
    "alpha = 0.0\n",
    "thetas  = np.random.random(2)\n",
    "for _ in range(?):\n",
    "    for _ in range(?):\n",
    "        print('\\r {} \\t {} \\t {} \\t'.format(np.power(np.dot(thetas, X) - y,2).mean()**0.5, thetas[0], thetas[1]), end='')"
   ]
  },
  {
   "cell_type": "code",
   "execution_count": null,
   "metadata": {
    "ExecuteTime": {
     "end_time": "2017-06-24T14:38:55.525000",
     "start_time": "2017-06-24T14:38:55.521000"
    }
   },
   "outputs": [],
   "source": [
    "#Get help with this\n",
    "plt.scatter(x,y, s=0.1)\n",
    "plt.plot([50, 275], [np.dot(thetas, [1, 50]), np.dot(thetas, [1, 275])], 'k-', lw=2)\n",
    "plt.show()"
   ]
  },
  {
   "cell_type": "code",
   "execution_count": null,
   "metadata": {
    "collapsed": true
   },
   "outputs": [],
   "source": []
  }
 ],
 "metadata": {
  "kernelspec": {
   "display_name": "Python 3",
   "language": "python",
   "name": "python3"
  },
  "language_info": {
   "codemirror_mode": {
    "name": "ipython",
    "version": 3
   },
   "file_extension": ".py",
   "mimetype": "text/x-python",
   "name": "python",
   "nbconvert_exporter": "python",
   "pygments_lexer": "ipython3",
   "version": "3.6.3"
  }
 },
 "nbformat": 4,
 "nbformat_minor": 2
}
