{
 "cells": [
  {
   "cell_type": "code",
   "execution_count": null,
   "metadata": {
    "ExecuteTime": {
     "end_time": "2017-07-22T21:53:39.939160Z",
     "start_time": "2017-07-22T21:53:38.751290Z"
    },
    "collapsed": true
   },
   "outputs": [],
   "source": [
    "import numpy as np\n",
    "import matplotlib.pyplot as plt\n",
    "plt.rcParams['figure.figsize'] = (15,15) # Make the figures a bit bigger"
   ]
  },
  {
   "cell_type": "code",
   "execution_count": null,
   "metadata": {
    "ExecuteTime": {
     "end_time": "2017-07-22T21:53:51.147440Z",
     "start_time": "2017-07-22T21:53:39.940163Z"
    }
   },
   "outputs": [],
   "source": [
    "from keras.datasets import mnist\n",
    "from keras.models import Sequential\n",
    "from keras.layers.core import Dense, Dropout, Activation\n",
    "from keras.utils import np_utils\n",
    "from IPython.display import SVG\n",
    "from keras.utils.vis_utils import model_to_dot\n",
    "\n",
    "%matplotlib inline"
   ]
  },
  {
   "cell_type": "markdown",
   "metadata": {},
   "source": [
    "## Meet the data "
   ]
  },
  {
   "cell_type": "markdown",
   "metadata": {},
   "source": [
    "<strong> In this section we will explore the MNIST dataset.</strong> <br>\n",
    "Further reading is available at: http://yann.lecun.com/exdb/mnist/"
   ]
  },
  {
   "cell_type": "code",
   "execution_count": null,
   "metadata": {
    "ExecuteTime": {
     "end_time": "2017-07-22T22:02:41.272467Z",
     "start_time": "2017-07-22T22:02:41.084888Z"
    },
    "collapsed": true
   },
   "outputs": [],
   "source": [
    "#load the dataset, how many classes are expected?\n",
    "(X_train, y_train), (X_test, y_test) = mnist.load_data()\n",
    "nb_classes = "
   ]
  },
  {
   "cell_type": "code",
   "execution_count": null,
   "metadata": {
    "ExecuteTime": {
     "end_time": "2017-07-22T21:53:52.386129Z",
     "start_time": "2017-07-22T21:53:52.383123Z"
    }
   },
   "outputs": [],
   "source": [
    "# the data, shuffled and split between tran and test sets\n",
    "print(\"X_train original shape:\")\n",
    "print(\"y_train original shape:\")"
   ]
  },
  {
   "cell_type": "code",
   "execution_count": null,
   "metadata": {
    "ExecuteTime": {
     "end_time": "2017-07-22T21:54:15.449909Z",
     "start_time": "2017-07-22T21:54:14.888278Z"
    }
   },
   "outputs": [],
   "source": [
    "# print 9 examples of train samples (a 28x28 matrix), use plt.imshow(cmap='gray', interpolation='none') \n",
    "plt.figure(figsize=(10,10))\n",
    "for i in range(9):\n",
    "    plt.subplot(3,3,i+1) #sets a place of the image\n",
    "    #TODO: add plt.imshow here\n",
    "    \n",
    "    plt.title(\"Class {}\".format(y_train[i]))\n",
    "\n",
    "plt.show()"
   ]
  },
  {
   "cell_type": "markdown",
   "metadata": {},
   "source": [
    "## Preprocess the data "
   ]
  },
  {
   "cell_type": "markdown",
   "metadata": {},
   "source": [
    "In this section we will transform the data to make it fit into out neutal network architecture. <br>\n",
    "\n",
    "<ul>\n",
    "  <li>First we would like to transform from 28x28 matrix to a 784x1 vector.</li>\n",
    "  <li>Make sure all numbers are floats between 0-1</li>\n",
    "  <li>Convert the y vector to one-hot encoded matrix</li>\n",
    "</ul>\n"
   ]
  },
  {
   "cell_type": "code",
   "execution_count": null,
   "metadata": {
    "ExecuteTime": {
     "end_time": "2017-07-22T22:08:51.752641Z",
     "start_time": "2017-07-22T22:08:51.749661Z"
    },
    "collapsed": true
   },
   "outputs": [],
   "source": [
    "# Use numpy.reshape function to change the dimension of X_train and X_test to (train_size,784) and (test_size, 784)\n",
    "X_train = \n",
    "X_test = "
   ]
  },
  {
   "cell_type": "code",
   "execution_count": null,
   "metadata": {
    "ExecuteTime": {
     "end_time": "2017-07-22T22:09:01.120310Z",
     "start_time": "2017-07-22T22:09:01.014029Z"
    },
    "collapsed": true
   },
   "outputs": [],
   "source": [
    "# Scale X to floats between 0 and 1\n",
    "X_train = X_train.astype('float32')\n",
    "X_test = X_test.astype('float32')\n",
    "\n",
    "X_train = \n",
    "X_test = "
   ]
  },
  {
   "cell_type": "code",
   "execution_count": null,
   "metadata": {
    "ExecuteTime": {
     "end_time": "2017-07-09T20:02:47.265000Z",
     "start_time": "2017-07-09T20:02:47.173000Z"
    }
   },
   "outputs": [],
   "source": [
    "# Lets see if you got that right\n",
    "print(\"Training matrix shape:\")\n",
    "print(\"Testing matrix shape:\")"
   ]
  },
  {
   "cell_type": "code",
   "execution_count": null,
   "metadata": {
    "ExecuteTime": {
     "end_time": "2017-07-22T22:09:25.050582Z",
     "start_time": "2017-07-22T22:09:25.046573Z"
    },
    "collapsed": true
   },
   "outputs": [],
   "source": [
    "#use np_utils.to_categorical to convert the y vector to a 1-hot encoded matrix\n",
    "Y_train = \n",
    "Y_test = "
   ]
  },
  {
   "cell_type": "markdown",
   "metadata": {},
   "source": [
    "## Define a neural network architecture "
   ]
  },
  {
   "cell_type": "markdown",
   "metadata": {},
   "source": [
    "In this section we will explore different network architectures, and observe how network's complexity affects the model's accuracy."
   ]
  },
  {
   "cell_type": "code",
   "execution_count": null,
   "metadata": {
    "ExecuteTime": {
     "end_time": "2017-07-22T22:09:53.009647Z",
     "start_time": "2017-07-22T22:09:53.006640Z"
    },
    "collapsed": true
   },
   "outputs": [],
   "source": [
    "# Add a dense softmax layer, how many neurons should it have?\n",
    "def softmax_model():\n",
    "    model = Sequential()\n",
    "    \n",
    "    # Add a dense layter with sofmax activation\n",
    "    # chose the right number of neurons\n",
    "    \n",
    "    return model"
   ]
  },
  {
   "cell_type": "code",
   "execution_count": null,
   "metadata": {
    "ExecuteTime": {
     "end_time": "2017-07-22T22:09:55.792520Z",
     "start_time": "2017-07-22T22:09:54.540703Z"
    },
    "collapsed": true
   },
   "outputs": [],
   "source": [
    "model = softmax_model()\n",
    "model.summary()"
   ]
  },
  {
   "cell_type": "code",
   "execution_count": null,
   "metadata": {
    "ExecuteTime": {
     "end_time": "2017-07-22T22:09:59.104223Z",
     "start_time": "2017-07-22T22:09:59.007054Z"
    },
    "collapsed": true
   },
   "outputs": [],
   "source": [
    "model.compile(loss='categorical_crossentropy', optimizer='adam', metrics=['acc'])\n",
    "model.fit(X_train, Y_train,\n",
    "          batch_size=, epochs=10,\n",
    "          verbose=1,\n",
    "          validation_data=(X_test, Y_test))"
   ]
  },
  {
   "cell_type": "code",
   "execution_count": null,
   "metadata": {
    "collapsed": true
   },
   "outputs": [],
   "source": [
    "score = model.evaluate(X_test, Y_test,verbose=0)\n",
    "print('Test score:', score)\n",
    "print('Test accuracy:', score)"
   ]
  },
  {
   "cell_type": "markdown",
   "metadata": {},
   "source": [
    "<br> <br> draw the class weights"
   ]
  },
  {
   "cell_type": "code",
   "execution_count": null,
   "metadata": {},
   "outputs": [],
   "source": [
    "#in order to obtain the theta vector coressponding to each class use model.layer function\n",
    "\n",
    "weights = np.array(?) # explore model.layers try to find the learnd thetas\n",
    "plt.figure(figsize=(15,15))\n",
    "for i in range(10):\n",
    "    plt.subplot(4,4,i+1)\n",
    "    plt.imshow(weights[i].reshape(28,28), cmap='PuBuGn', interpolation='none')\n",
    "    plt.title(\"Class {}\".format(i))\n",
    "plt.show()"
   ]
  },
  {
   "cell_type": "markdown",
   "metadata": {
    "collapsed": true
   },
   "source": [
    "<br> <br> <br> <br> Now, Try a more complex network, implement your own "
   ]
  },
  {
   "cell_type": "code",
   "execution_count": null,
   "metadata": {
    "ExecuteTime": {
     "end_time": "2017-07-09T20:06:20.628000Z",
     "start_time": "2017-07-09T20:06:20.351000Z"
    },
    "collapsed": true
   },
   "outputs": [],
   "source": [
    "def my_model():\n",
    "    model = Sequential()\n",
    "    \n",
    "    #------------------------------------------------#\n",
    "        #implement your own achitecture here!!#\n",
    "    \n",
    "    \n",
    "    \n",
    "    #-----------------------------------------------#\n",
    "    \n",
    "    return model"
   ]
  },
  {
   "cell_type": "code",
   "execution_count": null,
   "metadata": {
    "collapsed": true
   },
   "outputs": [],
   "source": [
    "model = my_model()\n",
    "model.summary()"
   ]
  },
  {
   "cell_type": "code",
   "execution_count": null,
   "metadata": {
    "collapsed": true
   },
   "outputs": [],
   "source": [
    "model.compile(loss='categorical_crossentropy', optimizer='adam', metrics=['acc'])\n",
    "model.fit(X_train, Y_train,\n",
    "          batch_size=128, epochs=10,\n",
    "          verbose=1,\n",
    "          validation_data=(X_test, Y_test))"
   ]
  },
  {
   "cell_type": "code",
   "execution_count": null,
   "metadata": {
    "collapsed": true
   },
   "outputs": [],
   "source": [
    "score = model.evaluate(X_test, Y_test,verbose=0)\n",
    "print('Test score:', score)\n",
    "print('Test accuracy:', score)"
   ]
  },
  {
   "cell_type": "markdown",
   "metadata": {},
   "source": [
    "## Visualize the error "
   ]
  },
  {
   "cell_type": "markdown",
   "metadata": {
    "ExecuteTime": {
     "end_time": "2017-07-23T20:45:45.420935Z",
     "start_time": "2017-07-23T20:45:45.415920Z"
    }
   },
   "source": [
    "<br> See where your model got it right and wrong <br>"
   ]
  },
  {
   "cell_type": "code",
   "execution_count": null,
   "metadata": {
    "ExecuteTime": {
     "end_time": "2017-07-09T20:06:21.239000Z",
     "start_time": "2017-07-09T20:06:21.049000Z"
    },
    "collapsed": true
   },
   "outputs": [],
   "source": [
    "# The predict_classes function outputs the highest probability class\n",
    "# according to the trained classifier for each input example.\n",
    "predicted_classes = model.predict_classes(X_test)\n",
    "\n",
    "# Check which items we got right / wrong\n",
    "correct_indices = np.nonzero(predicted_classes == y_test)[0]\n",
    "incorrect_indices = np.nonzero(predicted_classes != y_test)[0]\n",
    "\n",
    "\n",
    "plt.figure(figsize=(10,10))\n",
    "for i, correct in enumerate(correct_indices[:9]):\n",
    "    plt.subplot(3,3,i+1)\n",
    "    plt.imshow(X_test[correct].reshape(28,28), cmap='gray', interpolation='none')\n",
    "    plt.title(\"Predicted {}, Class {}\".format(predicted_classes[correct], y_test[correct]))\n",
    "plt.show()\n",
    "    \n",
    "plt.figure(figsize=(10,10))\n",
    "for i, incorrect in enumerate(incorrect_indices[:9]):\n",
    "    plt.subplot(3,3,i+1)\n",
    "    plt.imshow(X_test[incorrect].reshape(28,28), cmap='gray', interpolation='none')\n",
    "    plt.title(\"Predicted {}, Class {}\".format(predicted_classes[incorrect], y_test[incorrect]))\n",
    "plt.show()"
   ]
  }
 ],
 "metadata": {
  "kernelspec": {
   "display_name": "Python 3",
   "language": "python",
   "name": "python3"
  },
  "language_info": {
   "codemirror_mode": {
    "name": "ipython",
    "version": 3
   },
   "file_extension": ".py",
   "mimetype": "text/x-python",
   "name": "python",
   "nbconvert_exporter": "python",
   "pygments_lexer": "ipython3",
   "version": "3.6.1"
  }
 },
 "nbformat": 4,
 "nbformat_minor": 2
}
